{
 "cells": [
  {
   "cell_type": "code",
   "execution_count": 376,
   "id": "5dd0763c",
   "metadata": {},
   "outputs": [],
   "source": [
    "import pandas as pd\n",
    "import matplotlib.pyplot as plt\n"
   ]
  },
  {
   "cell_type": "code",
   "execution_count": 377,
   "id": "8ece2e13",
   "metadata": {},
   "outputs": [],
   "source": [
    "df1 = pd.read_csv('Scooter.csv')"
   ]
  },
  {
   "cell_type": "code",
   "execution_count": 378,
   "id": "dea94c0d",
   "metadata": {},
   "outputs": [],
   "source": [
    "df = df1.copy()\n"
   ]
  },
  {
   "cell_type": "code",
   "execution_count": 379,
   "id": "40a9da45",
   "metadata": {},
   "outputs": [],
   "source": [
    "df['PollTime'] = pd.to_datetime(df['PollTime'])"
   ]
  },
  {
   "cell_type": "code",
   "execution_count": 380,
   "id": "b7a1a385",
   "metadata": {},
   "outputs": [],
   "source": [
    "df['Month'] = df['PollTime'].dt.month"
   ]
  },
  {
   "cell_type": "code",
   "execution_count": 381,
   "id": "66e452ad",
   "metadata": {},
   "outputs": [],
   "source": [
    "df['Day'] = df['PollTime'].dt.day_name()"
   ]
  },
  {
   "cell_type": "code",
   "execution_count": 382,
   "id": "dd53b045",
   "metadata": {},
   "outputs": [],
   "source": [
    "df['HOUR'] = df['PollTime'].dt.hour"
   ]
  },
  {
   "cell_type": "code",
   "execution_count": 383,
   "id": "7f0ff54b",
   "metadata": {},
   "outputs": [
    {
     "data": {
      "text/html": [
       "<div>\n",
       "<style scoped>\n",
       "    .dataframe tbody tr th:only-of-type {\n",
       "        vertical-align: middle;\n",
       "    }\n",
       "\n",
       "    .dataframe tbody tr th {\n",
       "        vertical-align: top;\n",
       "    }\n",
       "\n",
       "    .dataframe thead th {\n",
       "        text-align: right;\n",
       "    }\n",
       "</style>\n",
       "<table border=\"1\" class=\"dataframe\">\n",
       "  <thead>\n",
       "    <tr style=\"text-align: right;\">\n",
       "      <th></th>\n",
       "      <th>PollTime</th>\n",
       "      <th>CompanyName</th>\n",
       "      <th>NumberAvailable</th>\n",
       "      <th>ClosestCenterlineID</th>\n",
       "      <th>ClosestCenterlineType</th>\n",
       "      <th>Neighborhood</th>\n",
       "      <th>ESRI_OID</th>\n",
       "      <th>Month</th>\n",
       "      <th>Day</th>\n",
       "      <th>HOUR</th>\n",
       "    </tr>\n",
       "  </thead>\n",
       "  <tbody>\n",
       "    <tr>\n",
       "      <th>0</th>\n",
       "      <td>2019-05-16 19:00:00+00:00</td>\n",
       "      <td>Lime</td>\n",
       "      <td>1</td>\n",
       "      <td>10122.00</td>\n",
       "      <td>street</td>\n",
       "      <td>Webber - Camden</td>\n",
       "      <td>1</td>\n",
       "      <td>5</td>\n",
       "      <td>Thursday</td>\n",
       "      <td>19</td>\n",
       "    </tr>\n",
       "    <tr>\n",
       "      <th>1</th>\n",
       "      <td>2019-05-16 19:00:00+00:00</td>\n",
       "      <td>Lime</td>\n",
       "      <td>1</td>\n",
       "      <td>10464.00</td>\n",
       "      <td>street</td>\n",
       "      <td>Lind - Bohanon</td>\n",
       "      <td>2</td>\n",
       "      <td>5</td>\n",
       "      <td>Thursday</td>\n",
       "      <td>19</td>\n",
       "    </tr>\n",
       "    <tr>\n",
       "      <th>2</th>\n",
       "      <td>2019-05-16 19:00:00+00:00</td>\n",
       "      <td>Lime</td>\n",
       "      <td>1</td>\n",
       "      <td>10801.00</td>\n",
       "      <td>street</td>\n",
       "      <td>Audubon Park</td>\n",
       "      <td>3</td>\n",
       "      <td>5</td>\n",
       "      <td>Thursday</td>\n",
       "      <td>19</td>\n",
       "    </tr>\n",
       "    <tr>\n",
       "      <th>3</th>\n",
       "      <td>2019-05-16 19:00:00+00:00</td>\n",
       "      <td>Lime</td>\n",
       "      <td>1</td>\n",
       "      <td>11395.00</td>\n",
       "      <td>street</td>\n",
       "      <td>CARAG</td>\n",
       "      <td>4</td>\n",
       "      <td>5</td>\n",
       "      <td>Thursday</td>\n",
       "      <td>19</td>\n",
       "    </tr>\n",
       "    <tr>\n",
       "      <th>4</th>\n",
       "      <td>2019-05-16 19:00:00+00:00</td>\n",
       "      <td>Lime</td>\n",
       "      <td>1</td>\n",
       "      <td>13067.00</td>\n",
       "      <td>street</td>\n",
       "      <td>Minnehaha</td>\n",
       "      <td>5</td>\n",
       "      <td>5</td>\n",
       "      <td>Thursday</td>\n",
       "      <td>19</td>\n",
       "    </tr>\n",
       "    <tr>\n",
       "      <th>...</th>\n",
       "      <td>...</td>\n",
       "      <td>...</td>\n",
       "      <td>...</td>\n",
       "      <td>...</td>\n",
       "      <td>...</td>\n",
       "      <td>...</td>\n",
       "      <td>...</td>\n",
       "      <td>...</td>\n",
       "      <td>...</td>\n",
       "      <td>...</td>\n",
       "    </tr>\n",
       "    <tr>\n",
       "      <th>486373</th>\n",
       "      <td>2019-10-18 23:00:00+00:00</td>\n",
       "      <td>Spin</td>\n",
       "      <td>1</td>\n",
       "      <td>22537.00</td>\n",
       "      <td>street</td>\n",
       "      <td>Steven's Square - Loring Heights</td>\n",
       "      <td>486374</td>\n",
       "      <td>10</td>\n",
       "      <td>Friday</td>\n",
       "      <td>23</td>\n",
       "    </tr>\n",
       "    <tr>\n",
       "      <th>486374</th>\n",
       "      <td>2019-10-18 23:00:00+00:00</td>\n",
       "      <td>Spin</td>\n",
       "      <td>1</td>\n",
       "      <td>26073.00</td>\n",
       "      <td>street</td>\n",
       "      <td>Prospect Park - East River Road</td>\n",
       "      <td>486375</td>\n",
       "      <td>10</td>\n",
       "      <td>Friday</td>\n",
       "      <td>23</td>\n",
       "    </tr>\n",
       "    <tr>\n",
       "      <th>486375</th>\n",
       "      <td>2019-10-18 23:00:00+00:00</td>\n",
       "      <td>Spin</td>\n",
       "      <td>1</td>\n",
       "      <td>8554BB01-327E-441D-8AFB-7DBBA502E527</td>\n",
       "      <td>trail</td>\n",
       "      <td>University of Minnesota</td>\n",
       "      <td>486376</td>\n",
       "      <td>10</td>\n",
       "      <td>Friday</td>\n",
       "      <td>23</td>\n",
       "    </tr>\n",
       "    <tr>\n",
       "      <th>486376</th>\n",
       "      <td>2019-10-18 23:00:00+00:00</td>\n",
       "      <td>Spin</td>\n",
       "      <td>1</td>\n",
       "      <td>A0695CAB-5306-420E-93C8-E4BDBC6FC107</td>\n",
       "      <td>trail</td>\n",
       "      <td>Ericsson</td>\n",
       "      <td>486377</td>\n",
       "      <td>10</td>\n",
       "      <td>Friday</td>\n",
       "      <td>23</td>\n",
       "    </tr>\n",
       "    <tr>\n",
       "      <th>486377</th>\n",
       "      <td>2019-10-18 23:00:00+00:00</td>\n",
       "      <td>Spin</td>\n",
       "      <td>2</td>\n",
       "      <td>D5864F45-22C2-4832-A86E-CB47F9985E84</td>\n",
       "      <td>trail</td>\n",
       "      <td>Logan Park</td>\n",
       "      <td>486378</td>\n",
       "      <td>10</td>\n",
       "      <td>Friday</td>\n",
       "      <td>23</td>\n",
       "    </tr>\n",
       "  </tbody>\n",
       "</table>\n",
       "<p>486378 rows × 10 columns</p>\n",
       "</div>"
      ],
      "text/plain": [
       "                        PollTime CompanyName  NumberAvailable  \\\n",
       "0      2019-05-16 19:00:00+00:00        Lime                1   \n",
       "1      2019-05-16 19:00:00+00:00        Lime                1   \n",
       "2      2019-05-16 19:00:00+00:00        Lime                1   \n",
       "3      2019-05-16 19:00:00+00:00        Lime                1   \n",
       "4      2019-05-16 19:00:00+00:00        Lime                1   \n",
       "...                          ...         ...              ...   \n",
       "486373 2019-10-18 23:00:00+00:00        Spin                1   \n",
       "486374 2019-10-18 23:00:00+00:00        Spin                1   \n",
       "486375 2019-10-18 23:00:00+00:00        Spin                1   \n",
       "486376 2019-10-18 23:00:00+00:00        Spin                1   \n",
       "486377 2019-10-18 23:00:00+00:00        Spin                2   \n",
       "\n",
       "                         ClosestCenterlineID ClosestCenterlineType  \\\n",
       "0                                   10122.00                street   \n",
       "1                                   10464.00                street   \n",
       "2                                   10801.00                street   \n",
       "3                                   11395.00                street   \n",
       "4                                   13067.00                street   \n",
       "...                                      ...                   ...   \n",
       "486373                              22537.00                street   \n",
       "486374                              26073.00                street   \n",
       "486375  8554BB01-327E-441D-8AFB-7DBBA502E527                 trail   \n",
       "486376  A0695CAB-5306-420E-93C8-E4BDBC6FC107                 trail   \n",
       "486377  D5864F45-22C2-4832-A86E-CB47F9985E84                 trail   \n",
       "\n",
       "                            Neighborhood  ESRI_OID  Month       Day  HOUR  \n",
       "0                        Webber - Camden         1      5  Thursday    19  \n",
       "1                         Lind - Bohanon         2      5  Thursday    19  \n",
       "2                           Audubon Park         3      5  Thursday    19  \n",
       "3                                  CARAG         4      5  Thursday    19  \n",
       "4                              Minnehaha         5      5  Thursday    19  \n",
       "...                                  ...       ...    ...       ...   ...  \n",
       "486373  Steven's Square - Loring Heights    486374     10    Friday    23  \n",
       "486374   Prospect Park - East River Road    486375     10    Friday    23  \n",
       "486375           University of Minnesota    486376     10    Friday    23  \n",
       "486376                          Ericsson    486377     10    Friday    23  \n",
       "486377                        Logan Park    486378     10    Friday    23  \n",
       "\n",
       "[486378 rows x 10 columns]"
      ]
     },
     "execution_count": 383,
     "metadata": {},
     "output_type": "execute_result"
    }
   ],
   "source": [
    "df"
   ]
  },
  {
   "cell_type": "code",
   "execution_count": 384,
   "id": "9f52dc40",
   "metadata": {},
   "outputs": [],
   "source": [
    "df['CAT_HOUR'] = pd.cut(df['HOUR'], \n",
    "       bins=[0, 6, 12, 18, 24], \n",
    "       labels=['Overnight', 'Morning', 'Afternoon', 'Evening'])\n"
   ]
  },
  {
   "cell_type": "code",
   "execution_count": 385,
   "id": "e78c14e1",
   "metadata": {},
   "outputs": [],
   "source": [
    "df = df[['CompanyName', 'NumberAvailable',\n",
    "       'ClosestCenterlineType', 'Neighborhood', 'Month', 'Day', 'HOUR',\n",
    "       'CAT_HOUR']]\n"
   ]
  },
  {
   "cell_type": "code",
   "execution_count": 386,
   "id": "47b37eac",
   "metadata": {},
   "outputs": [
    {
     "name": "stdout",
     "output_type": "stream",
     "text": [
      "<class 'pandas.core.frame.DataFrame'>\n",
      "RangeIndex: 486378 entries, 0 to 486377\n",
      "Data columns (total 8 columns):\n",
      " #   Column                 Non-Null Count   Dtype   \n",
      "---  ------                 --------------   -----   \n",
      " 0   CompanyName            486378 non-null  object  \n",
      " 1   NumberAvailable        486378 non-null  int64   \n",
      " 2   ClosestCenterlineType  486378 non-null  object  \n",
      " 3   Neighborhood           486378 non-null  object  \n",
      " 4   Month                  486378 non-null  int32   \n",
      " 5   Day                    486378 non-null  object  \n",
      " 6   HOUR                   486378 non-null  int32   \n",
      " 7   CAT_HOUR               486378 non-null  category\n",
      "dtypes: category(1), int32(2), int64(1), object(4)\n",
      "memory usage: 22.7+ MB\n"
     ]
    },
    {
     "data": {
      "text/plain": [
       "CompanyName              0\n",
       "NumberAvailable          0\n",
       "ClosestCenterlineType    0\n",
       "Neighborhood             0\n",
       "Month                    0\n",
       "Day                      0\n",
       "HOUR                     0\n",
       "CAT_HOUR                 0\n",
       "dtype: int64"
      ]
     },
     "execution_count": 386,
     "metadata": {},
     "output_type": "execute_result"
    }
   ],
   "source": [
    "df.info()\n",
    "df.isna().sum()"
   ]
  },
  {
   "cell_type": "code",
   "execution_count": 387,
   "id": "4b423a61",
   "metadata": {},
   "outputs": [
    {
     "data": {
      "text/plain": [
       "<Axes: xlabel='CompanyName'>"
      ]
     },
     "execution_count": 387,
     "metadata": {},
     "output_type": "execute_result"
    },
    {
     "data": {
      "image/png": "[encoded data removed]",
      "text/plain": [
       "<Figure size 640x480 with 1 Axes>"
      ]
     },
     "metadata": {},
     "output_type": "display_data"
    }
   ],
   "source": [
    "df['CompanyName'].value_counts().plot(kind = 'bar')"
   ]
  },
  {
   "cell_type": "code",
   "execution_count": 388,
   "id": "3b9f14b7",
   "metadata": {},
   "outputs": [
    {
     "data": {
      "text/plain": [
       "<Axes: xlabel='CompanyName'>"
      ]
     },
     "execution_count": 388,
     "metadata": {},
     "output_type": "execute_result"
    },
    {
     "data": {
      "image/png": "[encoded data removed]",
      "text/plain": [
       "<Figure size 640x480 with 1 Axes>"
      ]
     },
     "metadata": {},
     "output_type": "display_data"
    }
   ],
   "source": [
    "(df['CompanyName'].value_counts()/ len(df) * 100).round().plot(kind = 'bar')"
   ]
  },
  {
   "cell_type": "code",
   "execution_count": 389,
   "id": "e8904fc8",
   "metadata": {},
   "outputs": [
    {
     "data": {
      "text/plain": [
       "<Axes: xlabel='Neighborhood'>"
      ]
     },
     "execution_count": 389,
     "metadata": {},
     "output_type": "execute_result"
    },
    {
     "data": {
      "image/png": "[encoded data removed]",
      "text/plain": [
       "<Figure size 640x480 with 1 Axes>"
      ]
     },
     "metadata": {},
     "output_type": "display_data"
    }
   ],
   "source": [
    "df['Neighborhood'].value_counts().head(10).plot(kind = 'bar')"
   ]
  },
  {
   "cell_type": "code",
   "execution_count": 390,
   "id": "d98c4270",
   "metadata": {},
   "outputs": [
    {
     "data": {
      "text/plain": [
       "HOUR\n",
       "15    195998\n",
       "11    184027\n",
       "19    169902\n",
       "7     124726\n",
       "23    107511\n",
       "3      61667\n",
       "Name: NumberAvailable, dtype: int64"
      ]
     },
     "execution_count": 390,
     "metadata": {},
     "output_type": "execute_result"
    }
   ],
   "source": [
    "df.groupby('HOUR')['NumberAvailable'].sum().sort_values(ascending = False)"
   ]
  },
  {
   "cell_type": "code",
   "execution_count": 391,
   "id": "0ed0a62b",
   "metadata": {},
   "outputs": [
    {
     "data": {
      "text/plain": [
       "<Axes: xlabel='Day'>"
      ]
     },
     "execution_count": 391,
     "metadata": {},
     "output_type": "execute_result"
    },
    {
     "data": {
      "image/png": "[encoded data removed]",
      "text/plain": [
       "<Figure size 640x480 with 1 Axes>"
      ]
     },
     "metadata": {},
     "output_type": "display_data"
    }
   ],
   "source": [
    "df.groupby('Day')['NumberAvailable'].sum().sort_values(ascending = False).plot(kind ='bar')"
   ]
  },
  {
   "cell_type": "code",
   "execution_count": 392,
   "id": "f175f2e0",
   "metadata": {},
   "outputs": [
    {
     "data": {
      "text/plain": [
       "<Axes: xlabel='CompanyName'>"
      ]
     },
     "execution_count": 392,
     "metadata": {},
     "output_type": "execute_result"
    },
    {
     "data": {
      "image/png": "[encoded data removed]",
      "text/plain": [
       "<Figure size 640x480 with 1 Axes>"
      ]
     },
     "metadata": {},
     "output_type": "display_data"
    }
   ],
   "source": [
    "df.groupby('CompanyName')['NumberAvailable'].mean().sort_values(ascending = False).plot(kind ='bar')"
   ]
  },
  {
   "cell_type": "code",
   "execution_count": 393,
   "id": "ce84e8e9",
   "metadata": {},
   "outputs": [
    {
     "data": {
      "text/plain": [
       "CompanyName  Neighborhood            \n",
       "Lime         Downtown West               40753\n",
       "             Marcy Holmes                25861\n",
       "             Cedar Riverside             14778\n",
       "             North Loop                  14538\n",
       "             Como                        12879\n",
       "                                         ...  \n",
       "Spin         Bancroft                       40\n",
       "             Kenny                          37\n",
       "             Page                           30\n",
       "             Shingle Creek                  30\n",
       "             Humboldt Industrial Area       10\n",
       "Name: count, Length: 261, dtype: int64"
      ]
     },
     "execution_count": 393,
     "metadata": {},
     "output_type": "execute_result"
    }
   ],
   "source": [
    "df.groupby('CompanyName')['Neighborhood'].value_counts()"
   ]
  },
  {
   "cell_type": "code",
   "execution_count": 394,
   "id": "b399e128",
   "metadata": {},
   "outputs": [
    {
     "data": {
      "text/plain": [
       "CompanyName  HOUR\n",
       "Lime         19      65029\n",
       "             15      63967\n",
       "             11      51285\n",
       "Lyft         15      20493\n",
       "             11      16384\n",
       "             19      14313\n",
       "Spin         19      31248\n",
       "             15      29222\n",
       "             11      20643\n",
       "Name: count, dtype: int64"
      ]
     },
     "execution_count": 394,
     "metadata": {},
     "output_type": "execute_result"
    }
   ],
   "source": [
    "df.groupby('CompanyName')['HOUR'].value_counts().groupby('CompanyName').tail(3)\n",
    "df.groupby('CompanyName')['HOUR'].value_counts().groupby('CompanyName').head(3)"
   ]
  },
  {
   "cell_type": "code",
   "execution_count": 395,
   "id": "36a7aed2",
   "metadata": {},
   "outputs": [
    {
     "data": {
      "text/plain": [
       "CompanyName  Neighborhood             HOUR\n",
       "Lime         Downtown West            11      11088\n",
       "                                      15      10466\n",
       "                                      7        6589\n",
       "             Marcy Holmes             19       6037\n",
       "Lyft         Downtown West            15       2731\n",
       "                                      11       2687\n",
       "                                      19        862\n",
       "             North Loop               15        840\n",
       "Spin         Downtown West            15       3225\n",
       "             Marcy Holmes             19       3112\n",
       "             University of Minnesota  15       2800\n",
       "             Downtown West            11       2319\n",
       "Name: count, dtype: int64"
      ]
     },
     "execution_count": 395,
     "metadata": {},
     "output_type": "execute_result"
    }
   ],
   "source": [
    "df.groupby('CompanyName')[['Neighborhood','HOUR' ]].value_counts().groupby('CompanyName').head(4)"
   ]
  },
  {
   "cell_type": "code",
   "execution_count": 396,
   "id": "24960893",
   "metadata": {},
   "outputs": [
    {
     "data": {
      "text/plain": [
       "CompanyName\n",
       "Lime    302746\n",
       "Lyft     70811\n",
       "Spin    112821\n",
       "Name: NumberAvailable, dtype: int64"
      ]
     },
     "execution_count": 396,
     "metadata": {},
     "output_type": "execute_result"
    }
   ],
   "source": [
    "df.groupby('CompanyName')['NumberAvailable'].count()"
   ]
  },
  {
   "cell_type": "code",
   "execution_count": 397,
   "id": "a645b2cf",
   "metadata": {},
   "outputs": [
    {
     "data": {
      "text/plain": [
       "57634"
      ]
     },
     "execution_count": 397,
     "metadata": {},
     "output_type": "execute_result"
    }
   ],
   "source": [
    "(df['Neighborhood'] == 'Downtown West').sum()"
   ]
  },
  {
   "cell_type": "code",
   "execution_count": 398,
   "id": "4176e74d",
   "metadata": {},
   "outputs": [
    {
     "data": {
      "text/plain": [
       "428744"
      ]
     },
     "execution_count": 398,
     "metadata": {},
     "output_type": "execute_result"
    }
   ],
   "source": [
    "df['Neighborhood'].count() - (df['Neighborhood'] == 'Downtown West').sum() "
   ]
  },
  {
   "cell_type": "code",
   "execution_count": 399,
   "id": "cb7b1097",
   "metadata": {},
   "outputs": [],
   "source": [
    "# df = df[['CompanyName', 'NumberAvailable',\n",
    "#        'ClosestCenterlineType', 'Neighborhood', 'Month', 'HOUR',\n",
    "#        'CAT_HOUR']]\n"
   ]
  },
  {
   "cell_type": "code",
   "execution_count": 400,
   "id": "58c6eff9",
   "metadata": {},
   "outputs": [
    {
     "data": {
      "text/plain": [
       "Neighborhood\n",
       "Harrison                           175\n",
       "Cedar - Isles - Dean                44\n",
       "St. Anthony West                    42\n",
       "Downtown West                       35\n",
       "Prospect Park - East River Road     35\n",
       "                                  ... \n",
       "Lind - Bohanon                       4\n",
       "Armatage                             4\n",
       "Windom                               3\n",
       "Morris Park                          2\n",
       "Kenny                                2\n",
       "Name: NumberAvailable, Length: 87, dtype: int64"
      ]
     },
     "execution_count": 400,
     "metadata": {},
     "output_type": "execute_result"
    }
   ],
   "source": [
    "df.groupby('Neighborhood')['NumberAvailable'].max().sort_values(ascending = False)"
   ]
  },
  {
   "cell_type": "code",
   "execution_count": 401,
   "id": "7c952d70",
   "metadata": {},
   "outputs": [
    {
     "data": {
      "text/html": [
       "<div>\n",
       "<style scoped>\n",
       "    .dataframe tbody tr th:only-of-type {\n",
       "        vertical-align: middle;\n",
       "    }\n",
       "\n",
       "    .dataframe tbody tr th {\n",
       "        vertical-align: top;\n",
       "    }\n",
       "\n",
       "    .dataframe thead th {\n",
       "        text-align: right;\n",
       "    }\n",
       "</style>\n",
       "<table border=\"1\" class=\"dataframe\">\n",
       "  <thead>\n",
       "    <tr style=\"text-align: right;\">\n",
       "      <th></th>\n",
       "      <th>CompanyName</th>\n",
       "      <th>NumberAvailable</th>\n",
       "      <th>ClosestCenterlineType</th>\n",
       "      <th>Neighborhood</th>\n",
       "      <th>Month</th>\n",
       "      <th>Day</th>\n",
       "      <th>HOUR</th>\n",
       "      <th>CAT_HOUR</th>\n",
       "    </tr>\n",
       "  </thead>\n",
       "  <tbody>\n",
       "    <tr>\n",
       "      <th>56154</th>\n",
       "      <td>Spin</td>\n",
       "      <td>175</td>\n",
       "      <td>street</td>\n",
       "      <td>Harrison</td>\n",
       "      <td>6</td>\n",
       "      <td>Saturday</td>\n",
       "      <td>15</td>\n",
       "      <td>Afternoon</td>\n",
       "    </tr>\n",
       "  </tbody>\n",
       "</table>\n",
       "</div>"
      ],
      "text/plain": [
       "      CompanyName  NumberAvailable ClosestCenterlineType Neighborhood  Month  \\\n",
       "56154        Spin              175                street     Harrison      6   \n",
       "\n",
       "            Day  HOUR   CAT_HOUR  \n",
       "56154  Saturday    15  Afternoon  "
      ]
     },
     "execution_count": 401,
     "metadata": {},
     "output_type": "execute_result"
    }
   ],
   "source": [
    "df.loc[df['NumberAvailable'] == 175]"
   ]
  },
  {
   "cell_type": "code",
   "execution_count": 402,
   "id": "eb501d51",
   "metadata": {},
   "outputs": [
    {
     "data": {
      "text/html": [
       "<div>\n",
       "<style scoped>\n",
       "    .dataframe tbody tr th:only-of-type {\n",
       "        vertical-align: middle;\n",
       "    }\n",
       "\n",
       "    .dataframe tbody tr th {\n",
       "        vertical-align: top;\n",
       "    }\n",
       "\n",
       "    .dataframe thead th {\n",
       "        text-align: right;\n",
       "    }\n",
       "</style>\n",
       "<table border=\"1\" class=\"dataframe\">\n",
       "  <thead>\n",
       "    <tr style=\"text-align: right;\">\n",
       "      <th></th>\n",
       "      <th>CompanyName</th>\n",
       "      <th>NumberAvailable</th>\n",
       "      <th>ClosestCenterlineType</th>\n",
       "      <th>Neighborhood</th>\n",
       "      <th>Month</th>\n",
       "      <th>Day</th>\n",
       "      <th>HOUR</th>\n",
       "      <th>CAT_HOUR</th>\n",
       "    </tr>\n",
       "  </thead>\n",
       "  <tbody>\n",
       "    <tr>\n",
       "      <th>51</th>\n",
       "      <td>Lime</td>\n",
       "      <td>1</td>\n",
       "      <td>street</td>\n",
       "      <td>Harrison</td>\n",
       "      <td>5</td>\n",
       "      <td>Thursday</td>\n",
       "      <td>19</td>\n",
       "      <td>Evening</td>\n",
       "    </tr>\n",
       "    <tr>\n",
       "      <th>53</th>\n",
       "      <td>Lime</td>\n",
       "      <td>1</td>\n",
       "      <td>street</td>\n",
       "      <td>Harrison</td>\n",
       "      <td>5</td>\n",
       "      <td>Thursday</td>\n",
       "      <td>19</td>\n",
       "      <td>Evening</td>\n",
       "    </tr>\n",
       "    <tr>\n",
       "      <th>66</th>\n",
       "      <td>Lime</td>\n",
       "      <td>1</td>\n",
       "      <td>street</td>\n",
       "      <td>Harrison</td>\n",
       "      <td>5</td>\n",
       "      <td>Thursday</td>\n",
       "      <td>19</td>\n",
       "      <td>Evening</td>\n",
       "    </tr>\n",
       "    <tr>\n",
       "      <th>93</th>\n",
       "      <td>Lime</td>\n",
       "      <td>1</td>\n",
       "      <td>street</td>\n",
       "      <td>Harrison</td>\n",
       "      <td>5</td>\n",
       "      <td>Thursday</td>\n",
       "      <td>19</td>\n",
       "      <td>Evening</td>\n",
       "    </tr>\n",
       "    <tr>\n",
       "      <th>96</th>\n",
       "      <td>Lime</td>\n",
       "      <td>5</td>\n",
       "      <td>trail</td>\n",
       "      <td>Harrison</td>\n",
       "      <td>5</td>\n",
       "      <td>Thursday</td>\n",
       "      <td>19</td>\n",
       "      <td>Evening</td>\n",
       "    </tr>\n",
       "    <tr>\n",
       "      <th>...</th>\n",
       "      <td>...</td>\n",
       "      <td>...</td>\n",
       "      <td>...</td>\n",
       "      <td>...</td>\n",
       "      <td>...</td>\n",
       "      <td>...</td>\n",
       "      <td>...</td>\n",
       "      <td>...</td>\n",
       "    </tr>\n",
       "    <tr>\n",
       "      <th>485822</th>\n",
       "      <td>Lime</td>\n",
       "      <td>1</td>\n",
       "      <td>street</td>\n",
       "      <td>Harrison</td>\n",
       "      <td>10</td>\n",
       "      <td>Friday</td>\n",
       "      <td>23</td>\n",
       "      <td>Evening</td>\n",
       "    </tr>\n",
       "    <tr>\n",
       "      <th>485879</th>\n",
       "      <td>Lyft</td>\n",
       "      <td>1</td>\n",
       "      <td>street</td>\n",
       "      <td>Harrison</td>\n",
       "      <td>10</td>\n",
       "      <td>Friday</td>\n",
       "      <td>23</td>\n",
       "      <td>Evening</td>\n",
       "    </tr>\n",
       "    <tr>\n",
       "      <th>486193</th>\n",
       "      <td>Spin</td>\n",
       "      <td>1</td>\n",
       "      <td>street</td>\n",
       "      <td>Harrison</td>\n",
       "      <td>10</td>\n",
       "      <td>Friday</td>\n",
       "      <td>23</td>\n",
       "      <td>Evening</td>\n",
       "    </tr>\n",
       "    <tr>\n",
       "      <th>486238</th>\n",
       "      <td>Spin</td>\n",
       "      <td>1</td>\n",
       "      <td>street</td>\n",
       "      <td>Harrison</td>\n",
       "      <td>10</td>\n",
       "      <td>Friday</td>\n",
       "      <td>23</td>\n",
       "      <td>Evening</td>\n",
       "    </tr>\n",
       "    <tr>\n",
       "      <th>486353</th>\n",
       "      <td>Spin</td>\n",
       "      <td>1</td>\n",
       "      <td>street</td>\n",
       "      <td>Harrison</td>\n",
       "      <td>10</td>\n",
       "      <td>Friday</td>\n",
       "      <td>23</td>\n",
       "      <td>Evening</td>\n",
       "    </tr>\n",
       "  </tbody>\n",
       "</table>\n",
       "<p>9661 rows × 8 columns</p>\n",
       "</div>"
      ],
      "text/plain": [
       "       CompanyName  NumberAvailable ClosestCenterlineType Neighborhood  Month  \\\n",
       "51            Lime                1                street     Harrison      5   \n",
       "53            Lime                1                street     Harrison      5   \n",
       "66            Lime                1                street     Harrison      5   \n",
       "93            Lime                1                street     Harrison      5   \n",
       "96            Lime                5                 trail     Harrison      5   \n",
       "...            ...              ...                   ...          ...    ...   \n",
       "485822        Lime                1                street     Harrison     10   \n",
       "485879        Lyft                1                street     Harrison     10   \n",
       "486193        Spin                1                street     Harrison     10   \n",
       "486238        Spin                1                street     Harrison     10   \n",
       "486353        Spin                1                street     Harrison     10   \n",
       "\n",
       "             Day  HOUR CAT_HOUR  \n",
       "51      Thursday    19  Evening  \n",
       "53      Thursday    19  Evening  \n",
       "66      Thursday    19  Evening  \n",
       "93      Thursday    19  Evening  \n",
       "96      Thursday    19  Evening  \n",
       "...          ...   ...      ...  \n",
       "485822    Friday    23  Evening  \n",
       "485879    Friday    23  Evening  \n",
       "486193    Friday    23  Evening  \n",
       "486238    Friday    23  Evening  \n",
       "486353    Friday    23  Evening  \n",
       "\n",
       "[9661 rows x 8 columns]"
      ]
     },
     "execution_count": 402,
     "metadata": {},
     "output_type": "execute_result"
    }
   ],
   "source": [
    "df.loc[df['Neighborhood'] == 'Harrison']"
   ]
  },
  {
   "cell_type": "code",
   "execution_count": 403,
   "id": "6457473d",
   "metadata": {},
   "outputs": [
    {
     "data": {
      "text/html": [
       "<div>\n",
       "<style scoped>\n",
       "    .dataframe tbody tr th:only-of-type {\n",
       "        vertical-align: middle;\n",
       "    }\n",
       "\n",
       "    .dataframe tbody tr th {\n",
       "        vertical-align: top;\n",
       "    }\n",
       "\n",
       "    .dataframe thead th {\n",
       "        text-align: right;\n",
       "    }\n",
       "</style>\n",
       "<table border=\"1\" class=\"dataframe\">\n",
       "  <thead>\n",
       "    <tr style=\"text-align: right;\">\n",
       "      <th></th>\n",
       "      <th>CompanyName</th>\n",
       "      <th>NumberAvailable</th>\n",
       "      <th>ClosestCenterlineType</th>\n",
       "      <th>Neighborhood</th>\n",
       "      <th>Month</th>\n",
       "      <th>Day</th>\n",
       "      <th>HOUR</th>\n",
       "      <th>CAT_HOUR</th>\n",
       "    </tr>\n",
       "  </thead>\n",
       "  <tbody>\n",
       "    <tr>\n",
       "      <th>0</th>\n",
       "      <td>Lime</td>\n",
       "      <td>1</td>\n",
       "      <td>street</td>\n",
       "      <td>Webber - Camden</td>\n",
       "      <td>5</td>\n",
       "      <td>Thursday</td>\n",
       "      <td>19</td>\n",
       "      <td>Evening</td>\n",
       "    </tr>\n",
       "    <tr>\n",
       "      <th>1</th>\n",
       "      <td>Lime</td>\n",
       "      <td>1</td>\n",
       "      <td>street</td>\n",
       "      <td>Lind - Bohanon</td>\n",
       "      <td>5</td>\n",
       "      <td>Thursday</td>\n",
       "      <td>19</td>\n",
       "      <td>Evening</td>\n",
       "    </tr>\n",
       "    <tr>\n",
       "      <th>2</th>\n",
       "      <td>Lime</td>\n",
       "      <td>1</td>\n",
       "      <td>street</td>\n",
       "      <td>Audubon Park</td>\n",
       "      <td>5</td>\n",
       "      <td>Thursday</td>\n",
       "      <td>19</td>\n",
       "      <td>Evening</td>\n",
       "    </tr>\n",
       "    <tr>\n",
       "      <th>3</th>\n",
       "      <td>Lime</td>\n",
       "      <td>1</td>\n",
       "      <td>street</td>\n",
       "      <td>CARAG</td>\n",
       "      <td>5</td>\n",
       "      <td>Thursday</td>\n",
       "      <td>19</td>\n",
       "      <td>Evening</td>\n",
       "    </tr>\n",
       "    <tr>\n",
       "      <th>4</th>\n",
       "      <td>Lime</td>\n",
       "      <td>1</td>\n",
       "      <td>street</td>\n",
       "      <td>Minnehaha</td>\n",
       "      <td>5</td>\n",
       "      <td>Thursday</td>\n",
       "      <td>19</td>\n",
       "      <td>Evening</td>\n",
       "    </tr>\n",
       "    <tr>\n",
       "      <th>...</th>\n",
       "      <td>...</td>\n",
       "      <td>...</td>\n",
       "      <td>...</td>\n",
       "      <td>...</td>\n",
       "      <td>...</td>\n",
       "      <td>...</td>\n",
       "      <td>...</td>\n",
       "      <td>...</td>\n",
       "    </tr>\n",
       "    <tr>\n",
       "      <th>486373</th>\n",
       "      <td>Spin</td>\n",
       "      <td>1</td>\n",
       "      <td>street</td>\n",
       "      <td>Steven's Square - Loring Heights</td>\n",
       "      <td>10</td>\n",
       "      <td>Friday</td>\n",
       "      <td>23</td>\n",
       "      <td>Evening</td>\n",
       "    </tr>\n",
       "    <tr>\n",
       "      <th>486374</th>\n",
       "      <td>Spin</td>\n",
       "      <td>1</td>\n",
       "      <td>street</td>\n",
       "      <td>Prospect Park - East River Road</td>\n",
       "      <td>10</td>\n",
       "      <td>Friday</td>\n",
       "      <td>23</td>\n",
       "      <td>Evening</td>\n",
       "    </tr>\n",
       "    <tr>\n",
       "      <th>486375</th>\n",
       "      <td>Spin</td>\n",
       "      <td>1</td>\n",
       "      <td>trail</td>\n",
       "      <td>University of Minnesota</td>\n",
       "      <td>10</td>\n",
       "      <td>Friday</td>\n",
       "      <td>23</td>\n",
       "      <td>Evening</td>\n",
       "    </tr>\n",
       "    <tr>\n",
       "      <th>486376</th>\n",
       "      <td>Spin</td>\n",
       "      <td>1</td>\n",
       "      <td>trail</td>\n",
       "      <td>Ericsson</td>\n",
       "      <td>10</td>\n",
       "      <td>Friday</td>\n",
       "      <td>23</td>\n",
       "      <td>Evening</td>\n",
       "    </tr>\n",
       "    <tr>\n",
       "      <th>486377</th>\n",
       "      <td>Spin</td>\n",
       "      <td>2</td>\n",
       "      <td>trail</td>\n",
       "      <td>Logan Park</td>\n",
       "      <td>10</td>\n",
       "      <td>Friday</td>\n",
       "      <td>23</td>\n",
       "      <td>Evening</td>\n",
       "    </tr>\n",
       "  </tbody>\n",
       "</table>\n",
       "<p>486378 rows × 8 columns</p>\n",
       "</div>"
      ],
      "text/plain": [
       "       CompanyName  NumberAvailable ClosestCenterlineType  \\\n",
       "0             Lime                1                street   \n",
       "1             Lime                1                street   \n",
       "2             Lime                1                street   \n",
       "3             Lime                1                street   \n",
       "4             Lime                1                street   \n",
       "...            ...              ...                   ...   \n",
       "486373        Spin                1                street   \n",
       "486374        Spin                1                street   \n",
       "486375        Spin                1                 trail   \n",
       "486376        Spin                1                 trail   \n",
       "486377        Spin                2                 trail   \n",
       "\n",
       "                            Neighborhood  Month       Day  HOUR CAT_HOUR  \n",
       "0                        Webber - Camden      5  Thursday    19  Evening  \n",
       "1                         Lind - Bohanon      5  Thursday    19  Evening  \n",
       "2                           Audubon Park      5  Thursday    19  Evening  \n",
       "3                                  CARAG      5  Thursday    19  Evening  \n",
       "4                              Minnehaha      5  Thursday    19  Evening  \n",
       "...                                  ...    ...       ...   ...      ...  \n",
       "486373  Steven's Square - Loring Heights     10    Friday    23  Evening  \n",
       "486374   Prospect Park - East River Road     10    Friday    23  Evening  \n",
       "486375           University of Minnesota     10    Friday    23  Evening  \n",
       "486376                          Ericsson     10    Friday    23  Evening  \n",
       "486377                        Logan Park     10    Friday    23  Evening  \n",
       "\n",
       "[486378 rows x 8 columns]"
      ]
     },
     "execution_count": 403,
     "metadata": {},
     "output_type": "execute_result"
    }
   ],
   "source": [
    "df"
   ]
  }
 ],
 "metadata": {
  "kernelspec": {
   "display_name": "Python 3 (ipykernel)",
   "language": "python",
   "name": "python3"
  },
  "language_info": {
   "codemirror_mode": {
    "name": "ipython",
    "version": 3
   },
   "file_extension": ".py",
   "mimetype": "text/x-python",
   "name": "python",
   "nbconvert_exporter": "python",
   "pygments_lexer": "ipython3",
   "version": "3.11.4"
  }
 },
 "nbformat": 4,
 "nbformat_minor": 5
}
